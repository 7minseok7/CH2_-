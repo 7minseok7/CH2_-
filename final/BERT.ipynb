{
 "cells": [
  {
   "cell_type": "markdown",
   "id": "ea118f69-8b9d-4ae3-b5de-cc45dd11c373",
   "metadata": {
    "jp-MarkdownHeadingCollapsed": true
   },
   "source": [
    "### 인공지능 플랫폼 HuggingFace를 활용해 보기\n",
    "사전 학습된 BERT 모델을 가져온 다음, 넷플릭스 리뷰 데이터를 활용하여 파인 튜닝을 진행하고 그 모델을 활용함."
   ]
  },
  {
   "cell_type": "markdown",
   "id": "f71e9968-e0f1-4789-a401-63c5d36a3a3b",
   "metadata": {},
   "source": [
    "### 1. 데이터셋 불러오기 및 전처리"
   ]
  },
  {
   "cell_type": "code",
   "execution_count": 1,
   "id": "d7a6b265-a2ca-4acd-a80b-872453490c0c",
   "metadata": {},
   "outputs": [],
   "source": [
    "import pandas as pd"
   ]
  },
  {
   "cell_type": "code",
   "execution_count": 2,
   "id": "81310931-c2ec-46dc-9f70-01fa46489dc3",
   "metadata": {},
   "outputs": [],
   "source": [
    "# 데이터는 dataset/netflix 안에 있다.\n",
    "\n",
    "df = pd.read_csv('dataset/netflix/netflix_reviews.csv')"
   ]
  },
  {
   "cell_type": "code",
   "execution_count": 3,
   "id": "8a1aedd8-4cb1-4329-935d-beaf2ebe921a",
   "metadata": {},
   "outputs": [],
   "source": [
    "import re\n",
    "\n",
    "# 전처리 함수\n",
    "def preprocess_text(text):\n",
    "    if isinstance(text, float):\n",
    "        return \"\"\n",
    "    text = text.lower()  # 대문자를 소문자로\n",
    "    text = re.sub(r'[^\\w\\s]', '', text)  # 구두점 제거\n",
    "    text = re.sub(r'\\d+', '', text)  # 숫자 제거\n",
    "    text = text.strip()  # 띄어쓰기 제외하고 빈 칸 제거\n",
    "    return text"
   ]
  },
  {
   "cell_type": "code",
   "execution_count": 4,
   "id": "59cedc0a-f313-4e93-8a10-6e7a25cb2827",
   "metadata": {},
   "outputs": [
    {
     "data": {
      "text/html": [
       "<div>\n",
       "<style scoped>\n",
       "    .dataframe tbody tr th:only-of-type {\n",
       "        vertical-align: middle;\n",
       "    }\n",
       "\n",
       "    .dataframe tbody tr th {\n",
       "        vertical-align: top;\n",
       "    }\n",
       "\n",
       "    .dataframe thead th {\n",
       "        text-align: right;\n",
       "    }\n",
       "</style>\n",
       "<table border=\"1\" class=\"dataframe\">\n",
       "  <thead>\n",
       "    <tr style=\"text-align: right;\">\n",
       "      <th></th>\n",
       "      <th>text</th>\n",
       "      <th>label</th>\n",
       "    </tr>\n",
       "  </thead>\n",
       "  <tbody>\n",
       "    <tr>\n",
       "      <th>65542</th>\n",
       "      <td>useless on my tablet cannot detect any network...</td>\n",
       "      <td>1</td>\n",
       "    </tr>\n",
       "    <tr>\n",
       "      <th>8558</th>\n",
       "      <td>some of the movie are good but i have a proble...</td>\n",
       "      <td>1</td>\n",
       "    </tr>\n",
       "    <tr>\n",
       "      <th>93000</th>\n",
       "      <td>whats going on the out of sink sound its like ...</td>\n",
       "      <td>1</td>\n",
       "    </tr>\n",
       "    <tr>\n",
       "      <th>50568</th>\n",
       "      <td>totally fraud and cheated the said they r givi...</td>\n",
       "      <td>1</td>\n",
       "    </tr>\n",
       "    <tr>\n",
       "      <th>103039</th>\n",
       "      <td>latest update wont load in my ppro please fix ...</td>\n",
       "      <td>1</td>\n",
       "    </tr>\n",
       "    <tr>\n",
       "      <th>...</th>\n",
       "      <td>...</td>\n",
       "      <td>...</td>\n",
       "    </tr>\n",
       "    <tr>\n",
       "      <th>2778</th>\n",
       "      <td>i like the movies documents and series costume...</td>\n",
       "      <td>5</td>\n",
       "    </tr>\n",
       "    <tr>\n",
       "      <th>93082</th>\n",
       "      <td>i like netflix because it has so many relaxing...</td>\n",
       "      <td>5</td>\n",
       "    </tr>\n",
       "    <tr>\n",
       "      <th>109132</th>\n",
       "      <td>what a cool app but there are some movies that...</td>\n",
       "      <td>5</td>\n",
       "    </tr>\n",
       "    <tr>\n",
       "      <th>4463</th>\n",
       "      <td>good enjoy</td>\n",
       "      <td>5</td>\n",
       "    </tr>\n",
       "    <tr>\n",
       "      <th>60359</th>\n",
       "      <td>outstanding easy to use with lots of automated...</td>\n",
       "      <td>5</td>\n",
       "    </tr>\n",
       "  </tbody>\n",
       "</table>\n",
       "<p>50000 rows × 2 columns</p>\n",
       "</div>"
      ],
      "text/plain": [
       "                                                     text label\n",
       "65542   useless on my tablet cannot detect any network...     1\n",
       "8558    some of the movie are good but i have a proble...     1\n",
       "93000   whats going on the out of sink sound its like ...     1\n",
       "50568   totally fraud and cheated the said they r givi...     1\n",
       "103039  latest update wont load in my ppro please fix ...     1\n",
       "...                                                   ...   ...\n",
       "2778    i like the movies documents and series costume...     5\n",
       "93082   i like netflix because it has so many relaxing...     5\n",
       "109132  what a cool app but there are some movies that...     5\n",
       "4463                                           good enjoy     5\n",
       "60359   outstanding easy to use with lots of automated...     5\n",
       "\n",
       "[50000 rows x 2 columns]"
      ]
     },
     "execution_count": 4,
     "metadata": {},
     "output_type": "execute_result"
    }
   ],
   "source": [
    "# 데이터 불러오고 사소한 전처리를 먼저 함.\n",
    "df = pd.read_csv('dataset/netflix/netflix_reviews.csv')\n",
    "df.content = df.content.apply(preprocess_text)\n",
    "\n",
    "# 각 별점에 따라 10000개씩만 추출\n",
    "new_df = pd.DataFrame(columns=df.columns)\n",
    "for i in range(5):\n",
    "    new_df = pd.concat([new_df, df[df.score == i + 1].sample(10000)])[['content', 'score']]\n",
    "\n",
    "new_df.columns = ['text', 'label']\n",
    "new_df"
   ]
  },
  {
   "cell_type": "code",
   "execution_count": 5,
   "id": "da50c797-ccf4-4049-8aea-79d73a8321c4",
   "metadata": {},
   "outputs": [
    {
     "data": {
      "application/vnd.jupyter.widget-view+json": {
       "model_id": "57d1772b103043e28c9de5bef15e7f4f",
       "version_major": 2,
       "version_minor": 0
      },
      "text/plain": [
       "Map:   0%|          | 0/50000 [00:00<?, ? examples/s]"
      ]
     },
     "metadata": {},
     "output_type": "display_data"
    }
   ],
   "source": [
    "import os\n",
    "os.environ[\"TOKENIZERS_PARALLELISM\"] = \"false\"\n",
    "\n",
    "from datasets import Dataset\n",
    "from transformers import AutoTokenizer\n",
    "\n",
    "# 위의 데이터프레임을 dataset 객체로 바꿔준다.\n",
    "dataset = Dataset.from_pandas(new_df.reset_index(drop=True))\n",
    "\n",
    "# HuggingFace의 Model 탭에서 확인할 수 있으며, 해당 모델의 이름 혹은 주소를 알고 있다면\n",
    "# 손쉽게 모델에 맞는 tokenizer와 사전 훈련된 모델을 바로 불러올 수 있다.\n",
    "tokenizer = AutoTokenizer.from_pretrained(\"google-bert/bert-base-cased\")\n",
    "\n",
    "def tokenize_function(dataset):\n",
    "    # 텍스트 데이터를 토큰화한다.\n",
    "    # 텍스트 데이터를 모델에 입력할 때, 특히 배치 처리에서는 모든 텍스트의 길이를 통일시켜 주어야 한다.\n",
    "    # padding은 짧은 문장을 길게 늘일 때 사용하며 목표 길이에 모자란 만큼 0을 추가해 나가는 식으로 동작한다.\n",
    "    # truncation은 긴 문장을 짧게 줄일 때 사용하며 목표 길이를 초과한 위치에 있는 값들은 사라진다.\n",
    "    # (단, 맨 끝에 들어가는 special token은 사라지지 않는다. 즉, 입력한 것에 대해서만 토큰을 삭제한다.)\n",
    "    return tokenizer(dataset['text'], padding=\"max_length\", truncation=True)\n",
    "\n",
    "tokenized_datasets = dataset.map(tokenize_function, batched=True).train_test_split(test_size=0.2)"
   ]
  },
  {
   "cell_type": "markdown",
   "id": "a6e5c061-90b7-4270-b9ac-2a6ae7fe536d",
   "metadata": {},
   "source": [
    "### 2. 모델 훈련"
   ]
  },
  {
   "cell_type": "code",
   "execution_count": 6,
   "id": "a7ea6758-5d1f-4ba1-b52f-9bd0592128ee",
   "metadata": {},
   "outputs": [
    {
     "name": "stderr",
     "output_type": "stream",
     "text": [
      "Some weights of BertForSequenceClassification were not initialized from the model checkpoint at google-bert/bert-base-cased and are newly initialized: ['classifier.bias', 'classifier.weight']\n",
      "You should probably TRAIN this model on a down-stream task to be able to use it for predictions and inference.\n"
     ]
    }
   ],
   "source": [
    "from transformers import AutoModelForSequenceClassification\n",
    "\n",
    "# score는 1점부터 5점까지이므로 라벨의 개수는 5개.\n",
    "model = AutoModelForSequenceClassification.from_pretrained(\"google-bert/bert-base-cased\", num_labels=5)"
   ]
  },
  {
   "cell_type": "code",
   "execution_count": 7,
   "id": "25d33f83-72e0-4e91-86de-c17d019f3a2f",
   "metadata": {},
   "outputs": [],
   "source": [
    "import numpy as np\n",
    "import evaluate\n",
    "\n",
    "metric = evaluate.load(\"accuracy\")\n",
    "\n",
    "def compute_metrics(eval_pred):\n",
    "    logits, labels = eval_pred\n",
    "    predictions = np.argmax(logits, axis=-1)\n",
    "    return metric.compute(predictions=predictions, references=labels)"
   ]
  },
  {
   "cell_type": "code",
   "execution_count": 8,
   "id": "928af983-578c-4fba-8d14-adc0d2d91af5",
   "metadata": {},
   "outputs": [],
   "source": [
    "from transformers import TrainingArguments, Trainer\n",
    "\n",
    "training_args = TrainingArguments(\n",
    "    output_dir=\"test_trainer\", num_train_epochs=10, eval_strategy=\"epoch\"\n",
    ")"
   ]
  },
  {
   "cell_type": "markdown",
   "id": "bff3aae6-1d88-4838-bbe1-e591a55710c7",
   "metadata": {},
   "source": [
    "아래 두 셀은 학습이 어느 정도로 되었다는 생각이 들 때까지 원하는 만큼 반복하면 된다."
   ]
  },
  {
   "cell_type": "code",
   "execution_count": 9,
   "id": "c6e5daae-f4a8-4edc-95f5-61637f333528",
   "metadata": {},
   "outputs": [],
   "source": [
    "# 필요한 경우 일부만 추출해서 할 수도 있다.\n",
    "small_train_dataset = tokenized_datasets[\"train\"].shuffle(seed=1028).select(range(5000))\n",
    "small_eval_dataset = tokenized_datasets[\"test\"].shuffle(seed=1028).select(range(1000))"
   ]
  },
  {
   "cell_type": "code",
   "execution_count": 10,
   "id": "6607fdbc-bb4d-450e-a2cb-a44bdecd502f",
   "metadata": {},
   "outputs": [],
   "source": [
    "trainer = Trainer(\n",
    "    model=model,\n",
    "    args=training_args,\n",
    "    train_dataset=small_train_dataset,\n",
    "    eval_dataset=small_eval_dataset,\n",
    "    compute_metrics=compute_metrics\n",
    ")"
   ]
  },
  {
   "cell_type": "code",
   "execution_count": 11,
   "id": "2535f9de-2c53-4c31-96e8-6f2a87f7f0e3",
   "metadata": {},
   "outputs": [
    {
     "data": {
      "text/html": [
       "\n",
       "    <div>\n",
       "      \n",
       "      <progress value='6250' max='6250' style='width:300px; height:20px; vertical-align: middle;'></progress>\n",
       "      [6250/6250 1:03:41, Epoch 10/10]\n",
       "    </div>\n",
       "    <table border=\"1\" class=\"dataframe\">\n",
       "  <thead>\n",
       " <tr style=\"text-align: left;\">\n",
       "      <th>Epoch</th>\n",
       "      <th>Training Loss</th>\n",
       "      <th>Validation Loss</th>\n",
       "      <th>Accuracy</th>\n",
       "    </tr>\n",
       "  </thead>\n",
       "  <tbody>\n",
       "    <tr>\n",
       "      <td>1</td>\n",
       "      <td>1.057600</td>\n",
       "      <td>1.008816</td>\n",
       "      <td>0.317000</td>\n",
       "    </tr>\n",
       "    <tr>\n",
       "      <td>2</td>\n",
       "      <td>0.920100</td>\n",
       "      <td>0.926772</td>\n",
       "      <td>0.370000</td>\n",
       "    </tr>\n",
       "    <tr>\n",
       "      <td>3</td>\n",
       "      <td>0.832900</td>\n",
       "      <td>1.024872</td>\n",
       "      <td>0.344000</td>\n",
       "    </tr>\n",
       "    <tr>\n",
       "      <td>4</td>\n",
       "      <td>0.543100</td>\n",
       "      <td>1.288122</td>\n",
       "      <td>0.368000</td>\n",
       "    </tr>\n",
       "    <tr>\n",
       "      <td>5</td>\n",
       "      <td>0.368800</td>\n",
       "      <td>1.737536</td>\n",
       "      <td>0.359000</td>\n",
       "    </tr>\n",
       "    <tr>\n",
       "      <td>6</td>\n",
       "      <td>0.297200</td>\n",
       "      <td>2.257051</td>\n",
       "      <td>0.375000</td>\n",
       "    </tr>\n",
       "    <tr>\n",
       "      <td>7</td>\n",
       "      <td>0.209800</td>\n",
       "      <td>2.756801</td>\n",
       "      <td>0.377000</td>\n",
       "    </tr>\n",
       "    <tr>\n",
       "      <td>8</td>\n",
       "      <td>0.080800</td>\n",
       "      <td>3.011005</td>\n",
       "      <td>0.377000</td>\n",
       "    </tr>\n",
       "    <tr>\n",
       "      <td>9</td>\n",
       "      <td>0.043200</td>\n",
       "      <td>3.323883</td>\n",
       "      <td>0.367000</td>\n",
       "    </tr>\n",
       "    <tr>\n",
       "      <td>10</td>\n",
       "      <td>0.029000</td>\n",
       "      <td>3.373793</td>\n",
       "      <td>0.366000</td>\n",
       "    </tr>\n",
       "  </tbody>\n",
       "</table><p>"
      ],
      "text/plain": [
       "<IPython.core.display.HTML object>"
      ]
     },
     "metadata": {},
     "output_type": "display_data"
    },
    {
     "data": {
      "text/plain": [
       "TrainOutput(global_step=6250, training_loss=0.41950544746398927, metrics={'train_runtime': 3822.8505, 'train_samples_per_second': 13.079, 'train_steps_per_second': 1.635, 'total_flos': 1.31559071232e+16, 'train_loss': 0.41950544746398927, 'epoch': 10.0})"
      ]
     },
     "execution_count": 11,
     "metadata": {},
     "output_type": "execute_result"
    }
   ],
   "source": [
    "trainer.train()"
   ]
  },
  {
   "cell_type": "code",
   "execution_count": 22,
   "id": "ba3964ec-131c-4ecc-91e6-3a261ad50b25",
   "metadata": {},
   "outputs": [
    {
     "data": {
      "text/plain": [
       "[{'label': 'LABEL_1', 'score': 0.9997639060020447}]"
      ]
     },
     "execution_count": 22,
     "metadata": {},
     "output_type": "execute_result"
    }
   ],
   "source": [
    "from transformers import pipeline\n",
    "rating_classification = pipeline('text-classification', model=model, tokenizer=tokenizer, device='mps')\n",
    "\n",
    "rating_classification(\"I'm going to subscribe to Disney instead of using this.\")"
   ]
  },
  {
   "cell_type": "code",
   "execution_count": 17,
   "id": "af0b089e-0646-412a-8ef2-1cf333a7ad4d",
   "metadata": {},
   "outputs": [
    {
     "data": {
      "text/plain": [
       "{'text': 'dont override my phones brightness controls if your going to have in app brightness controls then use the phones native brightness the lowest setting is still too damn bright',\n",
       " 'label': 2}"
      ]
     },
     "execution_count": 17,
     "metadata": {},
     "output_type": "execute_result"
    }
   ],
   "source": [
    "dataset[11111]"
   ]
  },
  {
   "cell_type": "code",
   "execution_count": 31,
   "id": "a3ce36a8-35a9-4d2a-944e-42146420ad0d",
   "metadata": {},
   "outputs": [
    {
     "data": {
      "text/plain": [
       "BertForSequenceClassification(\n",
       "  (bert): BertModel(\n",
       "    (embeddings): BertEmbeddings(\n",
       "      (word_embeddings): Embedding(28996, 768, padding_idx=0)\n",
       "      (position_embeddings): Embedding(512, 768)\n",
       "      (token_type_embeddings): Embedding(2, 768)\n",
       "      (LayerNorm): LayerNorm((768,), eps=1e-12, elementwise_affine=True)\n",
       "      (dropout): Dropout(p=0.1, inplace=False)\n",
       "    )\n",
       "    (encoder): BertEncoder(\n",
       "      (layer): ModuleList(\n",
       "        (0-11): 12 x BertLayer(\n",
       "          (attention): BertAttention(\n",
       "            (self): BertSdpaSelfAttention(\n",
       "              (query): Linear(in_features=768, out_features=768, bias=True)\n",
       "              (key): Linear(in_features=768, out_features=768, bias=True)\n",
       "              (value): Linear(in_features=768, out_features=768, bias=True)\n",
       "              (dropout): Dropout(p=0.1, inplace=False)\n",
       "            )\n",
       "            (output): BertSelfOutput(\n",
       "              (dense): Linear(in_features=768, out_features=768, bias=True)\n",
       "              (LayerNorm): LayerNorm((768,), eps=1e-12, elementwise_affine=True)\n",
       "              (dropout): Dropout(p=0.1, inplace=False)\n",
       "            )\n",
       "          )\n",
       "          (intermediate): BertIntermediate(\n",
       "            (dense): Linear(in_features=768, out_features=3072, bias=True)\n",
       "            (intermediate_act_fn): GELUActivation()\n",
       "          )\n",
       "          (output): BertOutput(\n",
       "            (dense): Linear(in_features=3072, out_features=768, bias=True)\n",
       "            (LayerNorm): LayerNorm((768,), eps=1e-12, elementwise_affine=True)\n",
       "            (dropout): Dropout(p=0.1, inplace=False)\n",
       "          )\n",
       "        )\n",
       "      )\n",
       "    )\n",
       "    (pooler): BertPooler(\n",
       "      (dense): Linear(in_features=768, out_features=768, bias=True)\n",
       "      (activation): Tanh()\n",
       "    )\n",
       "  )\n",
       "  (dropout): Dropout(p=0.1, inplace=False)\n",
       "  (classifier): Linear(in_features=768, out_features=5, bias=True)\n",
       ")"
      ]
     },
     "execution_count": 31,
     "metadata": {},
     "output_type": "execute_result"
    }
   ],
   "source": [
    "model"
   ]
  },
  {
   "cell_type": "code",
   "execution_count": 35,
   "id": "1550fa96-c229-44cd-b60c-f53d17d3a91e",
   "metadata": {},
   "outputs": [],
   "source": [
    "# 처음에 pretrained 모델을 불러왔듯, 똑같이 pretrained 모델을 저장하면 된다.\n",
    "# 인자를 이름으로 한 디렉토리가 생성된다.\n",
    "# model.save_pretrained('BERT_model')\n",
    "\n",
    "# 불러오기\n",
    "# t_model = AutoModelForSequenceClassification.from_pretrained('BERT_model')\n",
    "# t_model"
   ]
  },
  {
   "cell_type": "code",
   "execution_count": null,
   "id": "6753a1dd-43c9-4118-9cdc-6fbb163b2784",
   "metadata": {},
   "outputs": [],
   "source": []
  }
 ],
 "metadata": {
  "kernelspec": {
   "display_name": "Python 3 (ipykernel)",
   "language": "python",
   "name": "python3"
  },
  "language_info": {
   "codemirror_mode": {
    "name": "ipython",
    "version": 3
   },
   "file_extension": ".py",
   "mimetype": "text/x-python",
   "name": "python",
   "nbconvert_exporter": "python",
   "pygments_lexer": "ipython3",
   "version": "3.11.7"
  }
 },
 "nbformat": 4,
 "nbformat_minor": 5
}
